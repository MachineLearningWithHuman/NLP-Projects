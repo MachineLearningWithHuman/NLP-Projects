{
  "nbformat": 4,
  "nbformat_minor": 0,
  "metadata": {
    "accelerator": "GPU",
    "colab": {
      "name": "C3_W2_Lab_2_sarcasm_classifier.ipynb",
      "provenance": [],
      "collapsed_sections": [],
      "toc_visible": true
    },
    "kernelspec": {
      "name": "python3",
      "display_name": "Python 3"
    },
    "language_info": {
      "name": "python"
    }
  },
  "cells": [
    {
      "cell_type": "code",
      "metadata": {
        "id": "zX4Kg8DUTKWO"
      },
      "source": [
        "#@title Licensed under the Apache License, Version 2.0 (the \"License\");\n",
        "# you may not use this file except in compliance with the License.\n",
        "# You may obtain a copy of the License at\n",
        "#\n",
        "# https://www.apache.org/licenses/LICENSE-2.0\n",
        "#\n",
        "# Unless required by applicable law or agreed to in writing, software\n",
        "# distributed under the License is distributed on an \"AS IS\" BASIS,\n",
        "# WITHOUT WARRANTIES OR CONDITIONS OF ANY KIND, either express or implied.\n",
        "# See the License for the specific language governing permissions and\n",
        "# limitations under the License."
      ],
      "execution_count": null,
      "outputs": []
    },
    {
      "cell_type": "markdown",
      "metadata": {
        "id": "DblSKtgISM2d"
      },
      "source": [
        "**Note:** This notebook can run using TensorFlow 2.5.0"
      ]
    },
    {
      "cell_type": "code",
      "metadata": {
        "id": "4gs9htvM7n_x"
      },
      "source": [
        "#!pip install tensorflow==2.5.0"
      ],
      "execution_count": null,
      "outputs": []
    },
    {
      "cell_type": "code",
      "metadata": {
        "id": "XYYDvoskkE61"
      },
      "source": [
        "import json\n",
        "import tensorflow as tf\n",
        "\n",
        "from tensorflow.keras.preprocessing.text import Tokenizer\n",
        "from tensorflow.keras.preprocessing.sequence import pad_sequences"
      ],
      "execution_count": 1,
      "outputs": []
    },
    {
      "cell_type": "code",
      "metadata": {
        "id": "0eJSTTYnkJQd"
      },
      "source": [
        "vocab_size = 10000\n",
        "embedding_dim = 16\n",
        "max_length = 100\n",
        "trunc_type='post'\n",
        "padding_type='post'\n",
        "oov_tok = \"<OOV>\"\n",
        "training_size = 20000\n"
      ],
      "execution_count": 2,
      "outputs": []
    },
    {
      "cell_type": "code",
      "metadata": {
        "id": "BQVuQrZNkPn9",
        "outputId": "fe3313a0-a07b-4049-dd0d-ff5b182dd9b6",
        "colab": {
          "base_uri": "https://localhost:8080/"
        }
      },
      "source": [
        "# sarcasm.json\n",
        "!gdown --id 1xRU3xY5-tkiPGvlz5xBJ18_pHWSRzI4v"
      ],
      "execution_count": 3,
      "outputs": [
        {
          "output_type": "stream",
          "name": "stdout",
          "text": [
            "Downloading...\n",
            "From: https://drive.google.com/uc?id=1xRU3xY5-tkiPGvlz5xBJ18_pHWSRzI4v\n",
            "To: /content/sarcasm.json\n",
            "\r  0% 0.00/5.64M [00:00<?, ?B/s]\r100% 5.64M/5.64M [00:00<00:00, 87.3MB/s]\n"
          ]
        }
      ]
    },
    {
      "cell_type": "code",
      "metadata": {
        "id": "oaLaaqhNkUPd"
      },
      "source": [
        "with open(\"./sarcasm.json\", 'r') as f:\n",
        "    datastore = json.load(f)\n",
        "\n",
        "sentences = []\n",
        "labels = []\n",
        "\n",
        "for item in datastore:\n",
        "    sentences.append(item['headline'])\n",
        "    labels.append(item['is_sarcastic'])"
      ],
      "execution_count": 4,
      "outputs": []
    },
    {
      "cell_type": "code",
      "metadata": {
        "id": "S1sD-7v0kYWk"
      },
      "source": [
        "training_sentences = sentences[0:training_size]\n",
        "testing_sentences = sentences[training_size:]\n",
        "training_labels = labels[0:training_size]\n",
        "testing_labels = labels[training_size:]"
      ],
      "execution_count": 5,
      "outputs": []
    },
    {
      "cell_type": "code",
      "metadata": {
        "id": "3u8UB0MCkZ5N"
      },
      "source": [
        "tokenizer = Tokenizer(num_words=vocab_size, oov_token=oov_tok)\n",
        "tokenizer.fit_on_texts(training_sentences)\n",
        "\n",
        "word_index = tokenizer.word_index\n",
        "\n",
        "training_sequences = tokenizer.texts_to_sequences(training_sentences)\n",
        "training_padded = pad_sequences(training_sequences, maxlen=max_length, padding=padding_type, truncating=trunc_type)\n",
        "\n",
        "testing_sequences = tokenizer.texts_to_sequences(testing_sentences)\n",
        "testing_padded = pad_sequences(testing_sequences, maxlen=max_length, padding=padding_type, truncating=trunc_type)"
      ],
      "execution_count": 6,
      "outputs": []
    },
    {
      "cell_type": "code",
      "metadata": {
        "id": "GrAlWBKf99Ya"
      },
      "source": [
        "# Need this block to get it to work with TensorFlow 2.x\n",
        "import numpy as np\n",
        "training_padded = np.array(training_padded)\n",
        "training_labels = np.array(training_labels)\n",
        "testing_padded = np.array(testing_padded)\n",
        "testing_labels = np.array(testing_labels)"
      ],
      "execution_count": 7,
      "outputs": []
    },
    {
      "cell_type": "code",
      "metadata": {
        "id": "FufaT4vlkiDE"
      },
      "source": [
        "model = tf.keras.Sequential([\n",
        "    tf.keras.layers.Embedding(vocab_size, embedding_dim, input_length=max_length),\n",
        "    tf.keras.layers.GlobalAveragePooling1D(),\n",
        "    tf.keras.layers.Dense(24, activation='relu'),\n",
        "    tf.keras.layers.Dense(1, activation='sigmoid')\n",
        "])\n",
        "model.compile(loss='binary_crossentropy',optimizer='adam',metrics=['accuracy'])"
      ],
      "execution_count": 8,
      "outputs": []
    },
    {
      "cell_type": "code",
      "metadata": {
        "id": "XfDt1hmYkiys",
        "outputId": "4c2eb564-7fde-4e44-865a-85ca26e95e94",
        "colab": {
          "base_uri": "https://localhost:8080/"
        }
      },
      "source": [
        "model.summary()\n"
      ],
      "execution_count": 9,
      "outputs": [
        {
          "output_type": "stream",
          "name": "stdout",
          "text": [
            "Model: \"sequential\"\n",
            "_________________________________________________________________\n",
            "Layer (type)                 Output Shape              Param #   \n",
            "=================================================================\n",
            "embedding (Embedding)        (None, 100, 16)           160000    \n",
            "_________________________________________________________________\n",
            "global_average_pooling1d (Gl (None, 16)                0         \n",
            "_________________________________________________________________\n",
            "dense (Dense)                (None, 24)                408       \n",
            "_________________________________________________________________\n",
            "dense_1 (Dense)              (None, 1)                 25        \n",
            "=================================================================\n",
            "Total params: 160,433\n",
            "Trainable params: 160,433\n",
            "Non-trainable params: 0\n",
            "_________________________________________________________________\n"
          ]
        }
      ]
    },
    {
      "cell_type": "code",
      "metadata": {
        "id": "2DTKQFf1kkyc",
        "outputId": "f967f676-9692-42a9-ee3d-f466af59f68f",
        "colab": {
          "base_uri": "https://localhost:8080/"
        }
      },
      "source": [
        "num_epochs = 30\n",
        "history = model.fit(training_padded, training_labels, epochs=num_epochs, validation_data=(testing_padded, testing_labels), verbose=2)"
      ],
      "execution_count": 10,
      "outputs": [
        {
          "output_type": "stream",
          "name": "stdout",
          "text": [
            "Epoch 1/30\n",
            "625/625 - 6s - loss: 0.6611 - accuracy: 0.5901 - val_loss: 0.5710 - val_accuracy: 0.7754\n",
            "Epoch 2/30\n",
            "625/625 - 3s - loss: 0.4281 - accuracy: 0.8331 - val_loss: 0.3857 - val_accuracy: 0.8396\n",
            "Epoch 3/30\n",
            "625/625 - 3s - loss: 0.3112 - accuracy: 0.8778 - val_loss: 0.3532 - val_accuracy: 0.8538\n",
            "Epoch 4/30\n",
            "625/625 - 3s - loss: 0.2584 - accuracy: 0.8998 - val_loss: 0.3434 - val_accuracy: 0.8565\n",
            "Epoch 5/30\n",
            "625/625 - 3s - loss: 0.2227 - accuracy: 0.9148 - val_loss: 0.3454 - val_accuracy: 0.8523\n",
            "Epoch 6/30\n",
            "625/625 - 3s - loss: 0.1956 - accuracy: 0.9264 - val_loss: 0.3739 - val_accuracy: 0.8420\n",
            "Epoch 7/30\n",
            "625/625 - 3s - loss: 0.1734 - accuracy: 0.9344 - val_loss: 0.3685 - val_accuracy: 0.8501\n",
            "Epoch 8/30\n",
            "625/625 - 3s - loss: 0.1564 - accuracy: 0.9420 - val_loss: 0.3773 - val_accuracy: 0.8526\n",
            "Epoch 9/30\n",
            "625/625 - 3s - loss: 0.1420 - accuracy: 0.9485 - val_loss: 0.3962 - val_accuracy: 0.8495\n",
            "Epoch 10/30\n",
            "625/625 - 3s - loss: 0.1280 - accuracy: 0.9553 - val_loss: 0.4121 - val_accuracy: 0.8506\n",
            "Epoch 11/30\n",
            "625/625 - 3s - loss: 0.1162 - accuracy: 0.9597 - val_loss: 0.4323 - val_accuracy: 0.8481\n",
            "Epoch 12/30\n",
            "625/625 - 3s - loss: 0.1055 - accuracy: 0.9647 - val_loss: 0.4575 - val_accuracy: 0.8469\n",
            "Epoch 13/30\n",
            "625/625 - 3s - loss: 0.0968 - accuracy: 0.9675 - val_loss: 0.4825 - val_accuracy: 0.8441\n",
            "Epoch 14/30\n",
            "625/625 - 3s - loss: 0.0893 - accuracy: 0.9706 - val_loss: 0.5091 - val_accuracy: 0.8413\n",
            "Epoch 15/30\n",
            "625/625 - 3s - loss: 0.0813 - accuracy: 0.9732 - val_loss: 0.5559 - val_accuracy: 0.8360\n",
            "Epoch 16/30\n",
            "625/625 - 3s - loss: 0.0745 - accuracy: 0.9761 - val_loss: 0.5658 - val_accuracy: 0.8375\n",
            "Epoch 17/30\n",
            "625/625 - 3s - loss: 0.0694 - accuracy: 0.9783 - val_loss: 0.5971 - val_accuracy: 0.8338\n",
            "Epoch 18/30\n",
            "625/625 - 3s - loss: 0.0633 - accuracy: 0.9801 - val_loss: 0.6324 - val_accuracy: 0.8308\n",
            "Epoch 19/30\n",
            "625/625 - 3s - loss: 0.0584 - accuracy: 0.9812 - val_loss: 0.6821 - val_accuracy: 0.8287\n",
            "Epoch 20/30\n",
            "625/625 - 3s - loss: 0.0543 - accuracy: 0.9833 - val_loss: 0.7661 - val_accuracy: 0.8216\n",
            "Epoch 21/30\n",
            "625/625 - 3s - loss: 0.0505 - accuracy: 0.9837 - val_loss: 0.7367 - val_accuracy: 0.8280\n",
            "Epoch 22/30\n",
            "625/625 - 3s - loss: 0.0456 - accuracy: 0.9869 - val_loss: 0.7925 - val_accuracy: 0.8210\n",
            "Epoch 23/30\n",
            "625/625 - 3s - loss: 0.0423 - accuracy: 0.9876 - val_loss: 0.8022 - val_accuracy: 0.8246\n",
            "Epoch 24/30\n",
            "625/625 - 3s - loss: 0.0401 - accuracy: 0.9888 - val_loss: 0.8476 - val_accuracy: 0.8222\n",
            "Epoch 25/30\n",
            "625/625 - 3s - loss: 0.0371 - accuracy: 0.9897 - val_loss: 0.9257 - val_accuracy: 0.8180\n",
            "Epoch 26/30\n",
            "625/625 - 3s - loss: 0.0329 - accuracy: 0.9910 - val_loss: 0.9719 - val_accuracy: 0.8174\n",
            "Epoch 27/30\n",
            "625/625 - 3s - loss: 0.0328 - accuracy: 0.9906 - val_loss: 0.9539 - val_accuracy: 0.8155\n",
            "Epoch 28/30\n",
            "625/625 - 3s - loss: 0.0282 - accuracy: 0.9926 - val_loss: 1.0011 - val_accuracy: 0.8174\n",
            "Epoch 29/30\n",
            "625/625 - 3s - loss: 0.0253 - accuracy: 0.9930 - val_loss: 1.0271 - val_accuracy: 0.8162\n",
            "Epoch 30/30\n",
            "625/625 - 3s - loss: 0.0265 - accuracy: 0.9926 - val_loss: 1.0750 - val_accuracy: 0.8141\n"
          ]
        }
      ]
    },
    {
      "cell_type": "code",
      "metadata": {
        "id": "2HYfBKXjkmU8",
        "outputId": "520b3b08-a762-4156-ee15-ea0c84a5cd02",
        "colab": {
          "base_uri": "https://localhost:8080/",
          "height": 541
        }
      },
      "source": [
        "import matplotlib.pyplot as plt\n",
        "\n",
        "\n",
        "def plot_graphs(history, string):\n",
        "  plt.plot(history.history[string])\n",
        "  plt.plot(history.history['val_'+string])\n",
        "  plt.xlabel(\"Epochs\")\n",
        "  plt.ylabel(string)\n",
        "  plt.legend([string, 'val_'+string])\n",
        "  plt.show()\n",
        "  \n",
        "plot_graphs(history, \"accuracy\")\n",
        "plot_graphs(history, \"loss\")"
      ],
      "execution_count": 11,
      "outputs": [
        {
          "output_type": "display_data",
          "data": {
            "image/png": "[encoded data removed]",
            "text/plain": [
              "<Figure size 432x288 with 1 Axes>"
            ]
          },
          "metadata": {
            "needs_background": "light"
          }
        },
        {
          "output_type": "display_data",
          "data": {
            "image/png": "[encoded data removed]",
            "text/plain": [
              "<Figure size 432x288 with 1 Axes>"
            ]
          },
          "metadata": {
            "needs_background": "light"
          }
        }
      ]
    },
    {
      "cell_type": "code",
      "metadata": {
        "id": "7SBdAZAenvzL",
        "outputId": "b4879abc-f5cb-4519-e096-60ca896f1257",
        "colab": {
          "base_uri": "https://localhost:8080/"
        }
      },
      "source": [
        "reverse_word_index = dict([(value, key) for (key, value) in word_index.items()])\n",
        "\n",
        "def decode_sentence(text):\n",
        "    return ' '.join([reverse_word_index.get(i, '?') for i in text])\n",
        "\n",
        "print(decode_sentence(training_padded[0]))\n",
        "print(training_sentences[2])\n",
        "print(labels[2])"
      ],
      "execution_count": 12,
      "outputs": [
        {
          "output_type": "stream",
          "name": "stdout",
          "text": [
            "former <OOV> store clerk sues over secret 'black <OOV> for minority shoppers ? ? ? ? ? ? ? ? ? ? ? ? ? ? ? ? ? ? ? ? ? ? ? ? ? ? ? ? ? ? ? ? ? ? ? ? ? ? ? ? ? ? ? ? ? ? ? ? ? ? ? ? ? ? ? ? ? ? ? ? ? ? ? ? ? ? ? ? ? ? ? ? ? ? ? ? ? ? ? ? ? ? ? ? ? ? ? ?\n",
            "mom starting to fear son's web series closest thing she will have to grandchild\n",
            "1\n"
          ]
        }
      ]
    },
    {
      "cell_type": "code",
      "metadata": {
        "id": "c9MqihtEkzQ9",
        "outputId": "9d0ea8f3-9ca7-4a50-cd5f-cbcfb8716432",
        "colab": {
          "base_uri": "https://localhost:8080/"
        }
      },
      "source": [
        "e = model.layers[0]\n",
        "weights = e.get_weights()[0]\n",
        "print(weights.shape) # shape: (vocab_size, embedding_dim)\n"
      ],
      "execution_count": 13,
      "outputs": [
        {
          "output_type": "stream",
          "name": "stdout",
          "text": [
            "(10000, 16)\n"
          ]
        }
      ]
    },
    {
      "cell_type": "code",
      "metadata": {
        "id": "LoBXVffknldU"
      },
      "source": [
        "import io\n",
        "\n",
        "out_v = io.open('vecs.tsv', 'w', encoding='utf-8')\n",
        "out_m = io.open('meta.tsv', 'w', encoding='utf-8')\n",
        "for word_num in range(1, vocab_size):\n",
        "  word = reverse_word_index[word_num]\n",
        "  embeddings = weights[word_num]\n",
        "  out_m.write(word + \"\\n\")\n",
        "  out_v.write('\\t'.join([str(x) for x in embeddings]) + \"\\n\")\n",
        "out_v.close()\n",
        "out_m.close()"
      ],
      "execution_count": null,
      "outputs": []
    },
    {
      "cell_type": "code",
      "metadata": {
        "id": "U4eZ5HtVnnEE"
      },
      "source": [
        "try:\n",
        "  from google.colab import files\n",
        "except ImportError:\n",
        "  pass\n",
        "else:\n",
        "  files.download('vecs.tsv')\n",
        "  files.download('meta.tsv')"
      ],
      "execution_count": null,
      "outputs": []
    },
    {
      "cell_type": "code",
      "metadata": {
        "id": "cG8-ArY-qDcz",
        "outputId": "41a6db3c-73b8-495b-f308-4fe13e86ae6a",
        "colab": {
          "base_uri": "https://localhost:8080/"
        }
      },
      "source": [
        "sentence = [\"granny starting to fear spiders in the garden might be real\", \"game of thrones season finale showing this sunday night\"]\n",
        "sequences = tokenizer.texts_to_sequences(sentence)\n",
        "padded = pad_sequences(sequences, maxlen=max_length, padding=padding_type, truncating=trunc_type)\n",
        "print(model.predict(padded))"
      ],
      "execution_count": 14,
      "outputs": [
        {
          "output_type": "stream",
          "name": "stdout",
          "text": [
            "[[9.3033612e-01]\n",
            " [5.0809163e-06]]\n"
          ]
        }
      ]
    },
    {
      "cell_type": "code",
      "metadata": {
        "id": "xPFObL3nSM2m"
      },
      "source": [
        ""
      ],
      "execution_count": null,
      "outputs": []
    }
  ]
}